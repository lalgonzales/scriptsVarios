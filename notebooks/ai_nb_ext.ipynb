{
 "cells": [
  {
   "attachments": {},
   "cell_type": "markdown",
   "id": "a21c92dc-1356-4940-beac-51592f71812f",
   "metadata": {},
   "source": [
    "# Jupyter AI - Config with Gemini\n",
    "\n",
    "This notebook serves as a guide to configuring and using AI within Jupyter Notebook.  For complete information, including installation and configuration steps for your Python environment, please refer to [this repository](https://github.com/jupyterlab/jupyter-ai.git)"
   ]
  },
  {
   "cell_type": "markdown",
   "id": "a589be30-0ffe-4b55-9178-47d88ebd0178",
   "metadata": {},
   "source": [
    "## Load the Extension and Set the GOOGLE_API_KEY\n",
    "\n",
    "Obtain a `GOOGLE_API_KEY` by following [this link](https://aistudio.google.com/app/apikey?hl=es-419). This key enables the use of Gemini as an LLM model.  Then, load the extension into your notebook.  \n",
    "\n",
    "Run the following two code cells, replacing the word \"token\" with your personal token.  **Do not** add quotation marks unless your token already includes them."
   ]
  },
  {
   "cell_type": "code",
   "execution_count": null,
   "id": "350c5579-9d87-43e5-acaf-2887a623a480",
   "metadata": {},
   "outputs": [],
   "source": [
    "# %load_ext jupyter_ai"
   ]
  },
  {
   "cell_type": "code",
   "execution_count": null,
   "id": "5152255a-f1a4-4ef8-b390-69957ffbbe43",
   "metadata": {},
   "outputs": [],
   "source": [
    "# %env GOOGLE_API_KEY=token"
   ]
  },
  {
   "cell_type": "markdown",
   "id": "10b520eb-f22c-4e19-becc-6b8563018e5e",
   "metadata": {},
   "source": [
    "After setting your API key, you can access Gemini by executing the magic command `%%ai gemini:gemini-1.5-flash`.  Subsequent lines will then be treated as prompts for the Gemini model."
   ]
  },
  {
   "cell_type": "code",
   "execution_count": 26,
   "id": "169b3d9d-12d7-4f38-bedc-9493c9260a64",
   "metadata": {},
   "outputs": [],
   "source": [
    "instrucciones = \"\"\"\n",
    "Que hago?\n",
    "\"\"\"\n",
    "\n",
    "contexto = \"\"\"\n",
    "---------------------------------------------------------------------------\n",
    "ImportError: The 'read_file' function requires the 'pyogrio' or 'fiona' package, but neither is installed or imports correctly.\n",
    "Importing fiona resulted in: libpoppler.so.126: cannot open shared object file: No such file or directory\n",
    "Importing pyogrio resulted in: No module named 'pyogrio'\n",
    "\"\"\"\n"
   ]
  },
  {
   "cell_type": "code",
   "execution_count": 27,
   "id": "f09099b6-2761-489e-a9b9-1a3a98874482",
   "metadata": {},
   "outputs": [
    {
     "data": {
      "text/markdown": [
       "```markdown\n",
       "The error message indicates that your Python code is trying to use the `read_file` function, which depends on either the `pyogrio` or `fiona` package.  However, neither package is installed correctly, or there's a problem importing them. Let's address both issues:\n",
       "\n",
       "**1.  Missing Packages:**\n",
       "\n",
       "You need to install the necessary packages.  Use `pip` (the preferred method) or `conda` (if you're using Anaconda or Miniconda).\n",
       "\n",
       "* **Using pip:** Open your terminal or command prompt and run:\n",
       "\n",
       "```bash\n",
       "pip install pyogrio fiona\n",
       "```\n",
       "\n",
       "* **Using conda:** Open your terminal or command prompt and run:\n",
       "\n",
       "```bash\n",
       "conda install -c conda-forge pyogrio fiona\n",
       "```\n",
       "\n",
       "\n",
       "**2.  `libpoppler.so.126` Error (fiona-related):**\n",
       "\n",
       "This error means that the `fiona` package can't find the `libpoppler` library, which is usually needed for handling PDF files (though `fiona` primarily works with geospatial data).  This suggests a problem with your system's library dependencies.  Here are some troubleshooting steps:\n",
       "\n",
       "* **Install `poppler-utils`:**  The `libpoppler` library is often part of a package like `poppler-utils`.  Try installing it using your system's package manager:\n",
       "\n",
       "    * **Debian/Ubuntu:** `sudo apt-get install libpoppler-cpp-dev poppler-utils`\n",
       "    * **Fedora/CentOS/RHEL:** `sudo dnf install poppler-utils`\n",
       "    * **macOS (using Homebrew):** `brew install poppler`\n",
       "\n",
       "* **Check your `LD_LIBRARY_PATH`:**  The operating system needs to know where to find `libpoppler.so.126`.  You might need to add the directory containing the library to your `LD_LIBRARY_PATH` environment variable.  The exact location depends on your system and how you installed `poppler-utils`.  This is usually advanced and should be done with caution.  If unsure, skip this step and focus on the package installation.\n",
       "\n",
       "* **Virtual Environments:** If you're using virtual environments (recommended), ensure you're installing `fiona` and `poppler-utils` within the correct environment.  Activate the environment before running the installation commands.\n",
       "\n",
       "**After Installation:**\n",
       "\n",
       "After installing the packages and resolving the library issue (if necessary), try running your Python code again.  If the problem persists, provide the following information for more specific help:\n",
       "\n",
       "* **Operating System:** (e.g., Windows 10, Ubuntu 20.04, macOS Monterey)\n",
       "* **Python Version:** (e.g., Python 3.9)\n",
       "* **The relevant code snippet:** (The part where you call `read_file`)\n",
       "* **Full error traceback:** (The complete error message from Python)\n",
       "\n",
       "\n",
       "By providing this information, I can give you more tailored assistance.\n",
       "```\n"
      ],
      "text/plain": [
       "<IPython.core.display.Markdown object>"
      ]
     },
     "execution_count": 27,
     "metadata": {
      "text/markdown": {
       "jupyter_ai": {
        "model_id": "gemini-1.5-flash",
        "provider_id": "gemini"
       }
      }
     },
     "output_type": "execute_result"
    }
   ],
   "source": [
    "%%ai gemini:gemini-1.5-flash\n",
    "{instrucciones}\n",
    "{contexto}"
   ]
  },
  {
   "cell_type": "code",
   "execution_count": null,
   "id": "198955fa-c9c9-4de1-b38d-51f0de51bd3d",
   "metadata": {},
   "outputs": [],
   "source": []
  }
 ],
 "metadata": {
  "kernelspec": {
   "display_name": "Python 3 (ipykernel)",
   "language": "python",
   "name": "python3"
  },
  "language_info": {
   "codemirror_mode": {
    "name": "ipython",
    "version": 3
   },
   "file_extension": ".py",
   "mimetype": "text/x-python",
   "name": "python",
   "nbconvert_exporter": "python",
   "pygments_lexer": "ipython3",
   "version": "3.11.11"
  }
 },
 "nbformat": 4,
 "nbformat_minor": 5
}
